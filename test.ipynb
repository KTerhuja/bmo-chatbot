{
 "cells": [
  {
   "cell_type": "code",
   "execution_count": null,
   "metadata": {},
   "outputs": [],
   "source": [
    "import os\n",
    "from langchain.llms import GooglePalm\n",
    "from langchain.vectorstores import FAISS\n",
    "from langchain.embeddings import GooglePalmEmbeddings\n",
    "from langchain.chains import RetrievalQA\n",
    "from langchain.chat_models import ChatOpenAI, AzureChatOpenAI, ChatAnthropic\n",
    "from langchain.llms import AzureOpenAI\n",
    "from langchain.document_loaders import DirectoryLoader,PyPDFLoader\n",
    "# from langchain.document_loaders import UnstructuredExcelLoader\n",
    "# from langchain.vectorstores import DocArrayInMemorySearch\n",
    "from langchain.memory import ConversationBufferMemory\n",
    "from langchain.text_splitter import CharacterTextSplitter\n",
    "from langchain.embeddings import OpenAIEmbeddings\n",
    "from langchain import PromptTemplate\n",
    "# from langchain.vectorstores import Chroma\n",
    "# from langchain.agents.tools import Tool\n",
    "# from langchain.experimental.plan_and_execute import PlanAndExecute, load_agent_executor, load_chat_planner\n",
    "# from langchain import OpenAI, VectorDBQA\n",
    "# from langchain.chains.router import MultiRetrievalQAChain\n",
    "import streamlit as st\n",
    "import pandas as pd\n",
    "from tqdm import tqdm\n",
    "# from langchain.document_loaders import UnstructuredPDFLoader\n",
    "\n",
    "from langchain.prompts.chat import (\n",
    "    ChatPromptTemplate,\n",
    "    SystemMessagePromptTemplate,\n",
    "    AIMessagePromptTemplate,\n",
    "    HumanMessagePromptTemplate,\n",
    ")\n",
    "from langchain.schema import (\n",
    "    AIMessage,\n",
    "    HumanMessage,\n",
    "    SystemMessage\n",
    ")"
   ]
  },
  {
   "cell_type": "code",
   "execution_count": null,
   "metadata": {},
   "outputs": [],
   "source": [
    "def load_doc(path):\n",
    "    if path.endswith(\".pdf\"):\n",
    "        doc = PyPDFLoader(file_path=path)\n",
    "    else:\n",
    "        doc = DirectoryLoader(path=path,glob=\"**/*.pdf\")\n",
    "    document = doc.load()\n",
    "    context = \"\\n\\n\".join([document[i].page_content for i in range(len(document))])\n",
    "    return context[:300000]"
   ]
  }
 ],
 "metadata": {
  "language_info": {
   "name": "python"
  },
  "orig_nbformat": 4
 },
 "nbformat": 4,
 "nbformat_minor": 2
}
